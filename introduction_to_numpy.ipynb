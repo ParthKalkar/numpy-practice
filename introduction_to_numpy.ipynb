{
  "nbformat": 4,
  "nbformat_minor": 0,
  "metadata": {
    "colab": {
      "provenance": []
    },
    "kernelspec": {
      "name": "python3",
      "display_name": "Python 3"
    },
    "language_info": {
      "name": "python"
    }
  },
  "cells": [
    {
      "cell_type": "code",
      "execution_count": 112,
      "metadata": {
        "id": "WATd5TTCGnpK"
      },
      "outputs": [],
      "source": [
        "# import numpy\n",
        "import numpy as np"
      ]
    },
    {
      "cell_type": "markdown",
      "source": [
        "## DataTypes & Attributes"
      ],
      "metadata": {
        "id": "BtEBoWrSH8u6"
      }
    },
    {
      "cell_type": "code",
      "source": [
        "# NumPy's main datatype is ndrarray\n",
        "\n",
        "a1 = np.array([1,2,3])\n",
        "a1, a1.shape, a1.ndim, a1.dtype, a1.size, type(a1)"
      ],
      "metadata": {
        "colab": {
          "base_uri": "https://localhost:8080/"
        },
        "id": "AKYTonhzIBdP",
        "outputId": "43be9a29-2fdf-4aee-9a15-e4ebdb7d4ee8"
      },
      "execution_count": 113,
      "outputs": [
        {
          "output_type": "execute_result",
          "data": {
            "text/plain": [
              "(array([1, 2, 3]), (3,), 1, dtype('int64'), 3, numpy.ndarray)"
            ]
          },
          "metadata": {},
          "execution_count": 113
        }
      ]
    },
    {
      "cell_type": "code",
      "source": [
        "a2 = np.array([[1, 2.0, 3.3], [4, 5, 6.5]])\n",
        "a2, a2.shape, a2.ndim, a2.dtype, a2.size, type(a2)"
      ],
      "metadata": {
        "colab": {
          "base_uri": "https://localhost:8080/"
        },
        "id": "mLZd865oIY2X",
        "outputId": "553f62f6-171a-4146-e916-3cebbec70d91"
      },
      "execution_count": 114,
      "outputs": [
        {
          "output_type": "execute_result",
          "data": {
            "text/plain": [
              "(array([[1. , 2. , 3.3],\n",
              "        [4. , 5. , 6.5]]), (2, 3), 2, dtype('float64'), 6, numpy.ndarray)"
            ]
          },
          "metadata": {},
          "execution_count": 114
        }
      ]
    },
    {
      "cell_type": "code",
      "source": [
        "a3 = np.array([[[1,2,3], [4,5,6], [7,8,9]], [[10,11,12], [13,14,15], [16,17,18]]])\n",
        "a3, a3.shape, a3.ndim, a3.dtype, a3.size, type(a3)"
      ],
      "metadata": {
        "colab": {
          "base_uri": "https://localhost:8080/"
        },
        "id": "3qTpp4qxIxrw",
        "outputId": "fa5fc442-c731-4cf4-c5ae-ec569b593ca9"
      },
      "execution_count": 115,
      "outputs": [
        {
          "output_type": "execute_result",
          "data": {
            "text/plain": [
              "(array([[[ 1,  2,  3],\n",
              "         [ 4,  5,  6],\n",
              "         [ 7,  8,  9]],\n",
              " \n",
              "        [[10, 11, 12],\n",
              "         [13, 14, 15],\n",
              "         [16, 17, 18]]]), (2, 3, 3), 3, dtype('int64'), 18, numpy.ndarray)"
            ]
          },
          "metadata": {},
          "execution_count": 115
        }
      ]
    },
    {
      "cell_type": "code",
      "source": [
        "# create a dataframe from a numpy array\n",
        "import pandas as pd\n",
        "\n",
        "df = pd.DataFrame(a2)\n",
        "df"
      ],
      "metadata": {
        "colab": {
          "base_uri": "https://localhost:8080/",
          "height": 112
        },
        "id": "uECHfHu6JWua",
        "outputId": "e46fea21-afd0-41b5-d54d-f20a8be3ca2e"
      },
      "execution_count": 116,
      "outputs": [
        {
          "output_type": "execute_result",
          "data": {
            "text/plain": [
              "     0    1    2\n",
              "0  1.0  2.0  3.3\n",
              "1  4.0  5.0  6.5"
            ],
            "text/html": [
              "\n",
              "  <div id=\"df-fbbb7856-3a6b-4031-ab01-cd08e58eeed0\">\n",
              "    <div class=\"colab-df-container\">\n",
              "      <div>\n",
              "<style scoped>\n",
              "    .dataframe tbody tr th:only-of-type {\n",
              "        vertical-align: middle;\n",
              "    }\n",
              "\n",
              "    .dataframe tbody tr th {\n",
              "        vertical-align: top;\n",
              "    }\n",
              "\n",
              "    .dataframe thead th {\n",
              "        text-align: right;\n",
              "    }\n",
              "</style>\n",
              "<table border=\"1\" class=\"dataframe\">\n",
              "  <thead>\n",
              "    <tr style=\"text-align: right;\">\n",
              "      <th></th>\n",
              "      <th>0</th>\n",
              "      <th>1</th>\n",
              "      <th>2</th>\n",
              "    </tr>\n",
              "  </thead>\n",
              "  <tbody>\n",
              "    <tr>\n",
              "      <th>0</th>\n",
              "      <td>1.0</td>\n",
              "      <td>2.0</td>\n",
              "      <td>3.3</td>\n",
              "    </tr>\n",
              "    <tr>\n",
              "      <th>1</th>\n",
              "      <td>4.0</td>\n",
              "      <td>5.0</td>\n",
              "      <td>6.5</td>\n",
              "    </tr>\n",
              "  </tbody>\n",
              "</table>\n",
              "</div>\n",
              "      <button class=\"colab-df-convert\" onclick=\"convertToInteractive('df-fbbb7856-3a6b-4031-ab01-cd08e58eeed0')\"\n",
              "              title=\"Convert this dataframe to an interactive table.\"\n",
              "              style=\"display:none;\">\n",
              "        \n",
              "  <svg xmlns=\"http://www.w3.org/2000/svg\" height=\"24px\"viewBox=\"0 0 24 24\"\n",
              "       width=\"24px\">\n",
              "    <path d=\"M0 0h24v24H0V0z\" fill=\"none\"/>\n",
              "    <path d=\"M18.56 5.44l.94 2.06.94-2.06 2.06-.94-2.06-.94-.94-2.06-.94 2.06-2.06.94zm-11 1L8.5 8.5l.94-2.06 2.06-.94-2.06-.94L8.5 2.5l-.94 2.06-2.06.94zm10 10l.94 2.06.94-2.06 2.06-.94-2.06-.94-.94-2.06-.94 2.06-2.06.94z\"/><path d=\"M17.41 7.96l-1.37-1.37c-.4-.4-.92-.59-1.43-.59-.52 0-1.04.2-1.43.59L10.3 9.45l-7.72 7.72c-.78.78-.78 2.05 0 2.83L4 21.41c.39.39.9.59 1.41.59.51 0 1.02-.2 1.41-.59l7.78-7.78 2.81-2.81c.8-.78.8-2.07 0-2.86zM5.41 20L4 18.59l7.72-7.72 1.47 1.35L5.41 20z\"/>\n",
              "  </svg>\n",
              "      </button>\n",
              "      \n",
              "  <style>\n",
              "    .colab-df-container {\n",
              "      display:flex;\n",
              "      flex-wrap:wrap;\n",
              "      gap: 12px;\n",
              "    }\n",
              "\n",
              "    .colab-df-convert {\n",
              "      background-color: #E8F0FE;\n",
              "      border: none;\n",
              "      border-radius: 50%;\n",
              "      cursor: pointer;\n",
              "      display: none;\n",
              "      fill: #1967D2;\n",
              "      height: 32px;\n",
              "      padding: 0 0 0 0;\n",
              "      width: 32px;\n",
              "    }\n",
              "\n",
              "    .colab-df-convert:hover {\n",
              "      background-color: #E2EBFA;\n",
              "      box-shadow: 0px 1px 2px rgba(60, 64, 67, 0.3), 0px 1px 3px 1px rgba(60, 64, 67, 0.15);\n",
              "      fill: #174EA6;\n",
              "    }\n",
              "\n",
              "    [theme=dark] .colab-df-convert {\n",
              "      background-color: #3B4455;\n",
              "      fill: #D2E3FC;\n",
              "    }\n",
              "\n",
              "    [theme=dark] .colab-df-convert:hover {\n",
              "      background-color: #434B5C;\n",
              "      box-shadow: 0px 1px 3px 1px rgba(0, 0, 0, 0.15);\n",
              "      filter: drop-shadow(0px 1px 2px rgba(0, 0, 0, 0.3));\n",
              "      fill: #FFFFFF;\n",
              "    }\n",
              "  </style>\n",
              "\n",
              "      <script>\n",
              "        const buttonEl =\n",
              "          document.querySelector('#df-fbbb7856-3a6b-4031-ab01-cd08e58eeed0 button.colab-df-convert');\n",
              "        buttonEl.style.display =\n",
              "          google.colab.kernel.accessAllowed ? 'block' : 'none';\n",
              "\n",
              "        async function convertToInteractive(key) {\n",
              "          const element = document.querySelector('#df-fbbb7856-3a6b-4031-ab01-cd08e58eeed0');\n",
              "          const dataTable =\n",
              "            await google.colab.kernel.invokeFunction('convertToInteractive',\n",
              "                                                     [key], {});\n",
              "          if (!dataTable) return;\n",
              "\n",
              "          const docLinkHtml = 'Like what you see? Visit the ' +\n",
              "            '<a target=\"_blank\" href=https://colab.research.google.com/notebooks/data_table.ipynb>data table notebook</a>'\n",
              "            + ' to learn more about interactive tables.';\n",
              "          element.innerHTML = '';\n",
              "          dataTable['output_type'] = 'display_data';\n",
              "          await google.colab.output.renderOutput(dataTable, element);\n",
              "          const docLink = document.createElement('div');\n",
              "          docLink.innerHTML = docLinkHtml;\n",
              "          element.appendChild(docLink);\n",
              "        }\n",
              "      </script>\n",
              "    </div>\n",
              "  </div>\n",
              "  "
            ]
          },
          "metadata": {},
          "execution_count": 116
        }
      ]
    },
    {
      "cell_type": "markdown",
      "source": [
        "## Creating NumPy arrays"
      ],
      "metadata": {
        "id": "I_LeWlljKtN5"
      }
    },
    {
      "cell_type": "code",
      "source": [
        "# array using typing numbers\n",
        "sample_array = np.array([1,2,3])\n",
        "sample_array"
      ],
      "metadata": {
        "colab": {
          "base_uri": "https://localhost:8080/"
        },
        "id": "KWGvlu6BK9zU",
        "outputId": "8eaf7e99-1335-4645-c1c1-a311511d406c"
      },
      "execution_count": 117,
      "outputs": [
        {
          "output_type": "execute_result",
          "data": {
            "text/plain": [
              "array([1, 2, 3])"
            ]
          },
          "metadata": {},
          "execution_count": 117
        }
      ]
    },
    {
      "cell_type": "code",
      "source": [
        "# array using .ones function\n",
        "ones = np.ones((2,3))\n",
        "ones, ones.dtype, type(ones)"
      ],
      "metadata": {
        "colab": {
          "base_uri": "https://localhost:8080/"
        },
        "id": "g192-JLILCsD",
        "outputId": "721bae00-71f6-4e4c-ba59-0b372f7deecc"
      },
      "execution_count": 118,
      "outputs": [
        {
          "output_type": "execute_result",
          "data": {
            "text/plain": [
              "(array([[1., 1., 1.],\n",
              "        [1., 1., 1.]]), dtype('float64'), numpy.ndarray)"
            ]
          },
          "metadata": {},
          "execution_count": 118
        }
      ]
    },
    {
      "cell_type": "code",
      "source": [
        "# array using .zeros function\n",
        "zeros = np.zeros((2, 3))\n",
        "zeros, zeros.dtype, type(zeros)"
      ],
      "metadata": {
        "colab": {
          "base_uri": "https://localhost:8080/"
        },
        "id": "P1CsIZZWLS9d",
        "outputId": "91ca2250-d9b5-4335-a9e9-89b70b32c4fb"
      },
      "execution_count": 119,
      "outputs": [
        {
          "output_type": "execute_result",
          "data": {
            "text/plain": [
              "(array([[0., 0., 0.],\n",
              "        [0., 0., 0.]]), dtype('float64'), numpy.ndarray)"
            ]
          },
          "metadata": {},
          "execution_count": 119
        }
      ]
    },
    {
      "cell_type": "code",
      "source": [
        "# array using .arange function\n",
        "range_array = np.arange(1, 7)\n",
        "range_array"
      ],
      "metadata": {
        "colab": {
          "base_uri": "https://localhost:8080/"
        },
        "id": "kZU7IP9ELdnc",
        "outputId": "a194823c-b391-4341-82ca-9cf9316ddd14"
      },
      "execution_count": 120,
      "outputs": [
        {
          "output_type": "execute_result",
          "data": {
            "text/plain": [
              "array([1, 2, 3, 4, 5, 6])"
            ]
          },
          "metadata": {},
          "execution_count": 120
        }
      ]
    },
    {
      "cell_type": "code",
      "source": [
        "# array using .random.randint function\n",
        "random_array = np.random.randint(0, 10, size=(3, 5))\n",
        "random_array"
      ],
      "metadata": {
        "colab": {
          "base_uri": "https://localhost:8080/"
        },
        "id": "Pgqsh_D-L4eR",
        "outputId": "ce07969d-ae02-4e1b-a653-9c3cded5715b"
      },
      "execution_count": 121,
      "outputs": [
        {
          "output_type": "execute_result",
          "data": {
            "text/plain": [
              "array([[9, 8, 1, 9, 9],\n",
              "       [1, 3, 1, 9, 2],\n",
              "       [0, 1, 5, 8, 1]])"
            ]
          },
          "metadata": {},
          "execution_count": 121
        }
      ]
    },
    {
      "cell_type": "code",
      "source": [
        "# array using .random.random\n",
        "random_array_2 = np.random.random((5, 3))\n",
        "random_array_2"
      ],
      "metadata": {
        "colab": {
          "base_uri": "https://localhost:8080/"
        },
        "id": "p-d3JXNnMi0_",
        "outputId": "abd5b469-2ee2-4128-85c5-030ba0510c0b"
      },
      "execution_count": 122,
      "outputs": [
        {
          "output_type": "execute_result",
          "data": {
            "text/plain": [
              "array([[0.95466223, 0.85250009, 0.6471705 ],\n",
              "       [0.39144861, 0.55746034, 0.80510153],\n",
              "       [0.39294502, 0.52251073, 0.67854101],\n",
              "       [0.18845405, 0.33150603, 0.22394903],\n",
              "       [0.75098623, 0.50255376, 0.14066532]])"
            ]
          },
          "metadata": {},
          "execution_count": 122
        }
      ]
    },
    {
      "cell_type": "code",
      "source": [
        "# Pseudo-random number\n",
        "np.random.seed(0)\n",
        "random_array_4 = np.random.randint(10, size=(5, 3))\n",
        "random_array_4"
      ],
      "metadata": {
        "colab": {
          "base_uri": "https://localhost:8080/"
        },
        "id": "aPZTlE0gMxBn",
        "outputId": "6db7ce35-408c-4eac-8618-cd1604dcecba"
      },
      "execution_count": 123,
      "outputs": [
        {
          "output_type": "execute_result",
          "data": {
            "text/plain": [
              "array([[5, 0, 3],\n",
              "       [3, 7, 9],\n",
              "       [3, 5, 2],\n",
              "       [4, 7, 6],\n",
              "       [8, 8, 1]])"
            ]
          },
          "metadata": {},
          "execution_count": 123
        }
      ]
    },
    {
      "cell_type": "code",
      "source": [
        "np.random.seed(7)\n",
        "random_array_5 = np.random.random((5,3))\n",
        "random_array_5"
      ],
      "metadata": {
        "colab": {
          "base_uri": "https://localhost:8080/"
        },
        "id": "D5WkdN_eNB93",
        "outputId": "8ffff88d-6e75-47b7-8fce-318a41b78f63"
      },
      "execution_count": 124,
      "outputs": [
        {
          "output_type": "execute_result",
          "data": {
            "text/plain": [
              "array([[0.07630829, 0.77991879, 0.43840923],\n",
              "       [0.72346518, 0.97798951, 0.53849587],\n",
              "       [0.50112046, 0.07205113, 0.26843898],\n",
              "       [0.4998825 , 0.67923   , 0.80373904],\n",
              "       [0.38094113, 0.06593635, 0.2881456 ]])"
            ]
          },
          "metadata": {},
          "execution_count": 124
        }
      ]
    },
    {
      "cell_type": "markdown",
      "source": [
        "## Viewing arrays and matrices"
      ],
      "metadata": {
        "id": "PUg7N5PiNzjG"
      }
    },
    {
      "cell_type": "code",
      "source": [
        "a1, a2, a3"
      ],
      "metadata": {
        "colab": {
          "base_uri": "https://localhost:8080/"
        },
        "id": "1BtBjnybOI8v",
        "outputId": "86846489-2532-4c96-f25c-00c1de081ea5"
      },
      "execution_count": 125,
      "outputs": [
        {
          "output_type": "execute_result",
          "data": {
            "text/plain": [
              "(array([1, 2, 3]), array([[1. , 2. , 3.3],\n",
              "        [4. , 5. , 6.5]]), array([[[ 1,  2,  3],\n",
              "         [ 4,  5,  6],\n",
              "         [ 7,  8,  9]],\n",
              " \n",
              "        [[10, 11, 12],\n",
              "         [13, 14, 15],\n",
              "         [16, 17, 18]]]))"
            ]
          },
          "metadata": {},
          "execution_count": 125
        }
      ]
    },
    {
      "cell_type": "code",
      "source": [
        "a1[0]"
      ],
      "metadata": {
        "colab": {
          "base_uri": "https://localhost:8080/"
        },
        "id": "2s2IBVO9OeOT",
        "outputId": "1d6ab1e5-4d24-4fb7-e142-072ab64dbfaf"
      },
      "execution_count": 126,
      "outputs": [
        {
          "output_type": "execute_result",
          "data": {
            "text/plain": [
              "1"
            ]
          },
          "metadata": {},
          "execution_count": 126
        }
      ]
    },
    {
      "cell_type": "code",
      "source": [
        "a2[0]"
      ],
      "metadata": {
        "colab": {
          "base_uri": "https://localhost:8080/"
        },
        "id": "dkeaQ3BhOjRv",
        "outputId": "8dd0fbf6-6353-4c41-e8f1-331134075093"
      },
      "execution_count": 127,
      "outputs": [
        {
          "output_type": "execute_result",
          "data": {
            "text/plain": [
              "array([1. , 2. , 3.3])"
            ]
          },
          "metadata": {},
          "execution_count": 127
        }
      ]
    },
    {
      "cell_type": "code",
      "source": [
        "a3[0]"
      ],
      "metadata": {
        "colab": {
          "base_uri": "https://localhost:8080/"
        },
        "id": "Y0ksCYTaOlkf",
        "outputId": "e2a81d3d-9800-47ee-bf44-132eff07aed0"
      },
      "execution_count": 128,
      "outputs": [
        {
          "output_type": "execute_result",
          "data": {
            "text/plain": [
              "array([[1, 2, 3],\n",
              "       [4, 5, 6],\n",
              "       [7, 8, 9]])"
            ]
          },
          "metadata": {},
          "execution_count": 128
        }
      ]
    },
    {
      "cell_type": "code",
      "source": [
        "a3[:2, :2, :2\n",
        "   ]"
      ],
      "metadata": {
        "colab": {
          "base_uri": "https://localhost:8080/"
        },
        "id": "I4CED2IqOm2s",
        "outputId": "6a43d630-f9c2-4f73-dab2-59e0bf0a5a2f"
      },
      "execution_count": 129,
      "outputs": [
        {
          "output_type": "execute_result",
          "data": {
            "text/plain": [
              "array([[[ 1,  2],\n",
              "        [ 4,  5]],\n",
              "\n",
              "       [[10, 11],\n",
              "        [13, 14]]])"
            ]
          },
          "metadata": {},
          "execution_count": 129
        }
      ]
    },
    {
      "cell_type": "code",
      "source": [
        "a4 = np.random.randint(10, size=(2, 3, 4, 5))\n",
        "a4"
      ],
      "metadata": {
        "colab": {
          "base_uri": "https://localhost:8080/"
        },
        "id": "002xpgnUOxjR",
        "outputId": "be0c15e7-cdcd-47d1-d9b9-f01009f1d4c8"
      },
      "execution_count": 130,
      "outputs": [
        {
          "output_type": "execute_result",
          "data": {
            "text/plain": [
              "array([[[[3, 5, 8, 8, 7],\n",
              "         [5, 0, 0, 2, 8],\n",
              "         [9, 6, 4, 9, 7],\n",
              "         [3, 3, 8, 3, 0]],\n",
              "\n",
              "        [[1, 0, 0, 6, 7],\n",
              "         [7, 9, 3, 0, 7],\n",
              "         [7, 7, 0, 5, 4],\n",
              "         [3, 1, 3, 1, 3]],\n",
              "\n",
              "        [[4, 3, 1, 9, 5],\n",
              "         [9, 1, 2, 3, 2],\n",
              "         [2, 5, 7, 3, 0],\n",
              "         [9, 9, 3, 4, 5]]],\n",
              "\n",
              "\n",
              "       [[[3, 0, 4, 8, 6],\n",
              "         [7, 2, 7, 3, 8],\n",
              "         [6, 6, 5, 6, 5],\n",
              "         [7, 1, 5, 4, 4]],\n",
              "\n",
              "        [[9, 9, 0, 6, 2],\n",
              "         [6, 8, 2, 4, 1],\n",
              "         [6, 1, 5, 1, 6],\n",
              "         [9, 8, 6, 5, 9]],\n",
              "\n",
              "        [[7, 5, 4, 9, 6],\n",
              "         [8, 1, 5, 5, 8],\n",
              "         [3, 7, 7, 9, 4],\n",
              "         [7, 5, 9, 6, 2]]]])"
            ]
          },
          "metadata": {},
          "execution_count": 130
        }
      ]
    },
    {
      "cell_type": "code",
      "source": [
        "# Get the first 4 numbers of the inner most arrays\n",
        "a4[:, :, : ,:4]"
      ],
      "metadata": {
        "colab": {
          "base_uri": "https://localhost:8080/"
        },
        "id": "4nDWfh4tO_1t",
        "outputId": "dac12d94-c46f-4af5-ba92-c4a3654a081f"
      },
      "execution_count": 131,
      "outputs": [
        {
          "output_type": "execute_result",
          "data": {
            "text/plain": [
              "array([[[[3, 5, 8, 8],\n",
              "         [5, 0, 0, 2],\n",
              "         [9, 6, 4, 9],\n",
              "         [3, 3, 8, 3]],\n",
              "\n",
              "        [[1, 0, 0, 6],\n",
              "         [7, 9, 3, 0],\n",
              "         [7, 7, 0, 5],\n",
              "         [3, 1, 3, 1]],\n",
              "\n",
              "        [[4, 3, 1, 9],\n",
              "         [9, 1, 2, 3],\n",
              "         [2, 5, 7, 3],\n",
              "         [9, 9, 3, 4]]],\n",
              "\n",
              "\n",
              "       [[[3, 0, 4, 8],\n",
              "         [7, 2, 7, 3],\n",
              "         [6, 6, 5, 6],\n",
              "         [7, 1, 5, 4]],\n",
              "\n",
              "        [[9, 9, 0, 6],\n",
              "         [6, 8, 2, 4],\n",
              "         [6, 1, 5, 1],\n",
              "         [9, 8, 6, 5]],\n",
              "\n",
              "        [[7, 5, 4, 9],\n",
              "         [8, 1, 5, 5],\n",
              "         [3, 7, 7, 9],\n",
              "         [7, 5, 9, 6]]]])"
            ]
          },
          "metadata": {},
          "execution_count": 131
        }
      ]
    },
    {
      "cell_type": "markdown",
      "source": [
        "## Manipulating and comparing arrays \n",
        "\n",
        "### Arithmetic"
      ],
      "metadata": {
        "id": "GJN4HfIOPP02"
      }
    },
    {
      "cell_type": "code",
      "source": [
        "a1"
      ],
      "metadata": {
        "colab": {
          "base_uri": "https://localhost:8080/"
        },
        "id": "yKjsSMBcP-ra",
        "outputId": "211f01f0-08d2-4c53-eff9-60521c7799d2"
      },
      "execution_count": 132,
      "outputs": [
        {
          "output_type": "execute_result",
          "data": {
            "text/plain": [
              "array([1, 2, 3])"
            ]
          },
          "metadata": {},
          "execution_count": 132
        }
      ]
    },
    {
      "cell_type": "code",
      "source": [
        "ones = np.ones(3)\n",
        "ones"
      ],
      "metadata": {
        "colab": {
          "base_uri": "https://localhost:8080/"
        },
        "id": "Ajm_8SA-QEeF",
        "outputId": "e9dd85b5-be9c-4f0e-be07-560fe2defbf1"
      },
      "execution_count": 133,
      "outputs": [
        {
          "output_type": "execute_result",
          "data": {
            "text/plain": [
              "array([1., 1., 1.])"
            ]
          },
          "metadata": {},
          "execution_count": 133
        }
      ]
    },
    {
      "cell_type": "code",
      "source": [
        "a1 + ones\n"
      ],
      "metadata": {
        "colab": {
          "base_uri": "https://localhost:8080/"
        },
        "id": "aNpXAF9OQGek",
        "outputId": "1d12bec3-fbad-4652-bb9c-2842c045d4e8"
      },
      "execution_count": 134,
      "outputs": [
        {
          "output_type": "execute_result",
          "data": {
            "text/plain": [
              "array([2., 3., 4.])"
            ]
          },
          "metadata": {},
          "execution_count": 134
        }
      ]
    },
    {
      "cell_type": "code",
      "source": [
        "a1 - ones"
      ],
      "metadata": {
        "colab": {
          "base_uri": "https://localhost:8080/"
        },
        "id": "lqbtqY8uQI4C",
        "outputId": "d163353f-aa18-4f2a-de83-79008960e208"
      },
      "execution_count": 135,
      "outputs": [
        {
          "output_type": "execute_result",
          "data": {
            "text/plain": [
              "array([0., 1., 2.])"
            ]
          },
          "metadata": {},
          "execution_count": 135
        }
      ]
    },
    {
      "cell_type": "code",
      "source": [
        "a2"
      ],
      "metadata": {
        "colab": {
          "base_uri": "https://localhost:8080/"
        },
        "id": "UNOqYNgWQK0c",
        "outputId": "acc23219-2753-45f2-f92c-342d796aac56"
      },
      "execution_count": 136,
      "outputs": [
        {
          "output_type": "execute_result",
          "data": {
            "text/plain": [
              "array([[1. , 2. , 3.3],\n",
              "       [4. , 5. , 6.5]])"
            ]
          },
          "metadata": {},
          "execution_count": 136
        }
      ]
    },
    {
      "cell_type": "code",
      "source": [
        "a1 * a2"
      ],
      "metadata": {
        "colab": {
          "base_uri": "https://localhost:8080/"
        },
        "id": "uAiUffuuQOqV",
        "outputId": "500241d0-4379-4e28-c08e-1e9464fb6990"
      },
      "execution_count": 137,
      "outputs": [
        {
          "output_type": "execute_result",
          "data": {
            "text/plain": [
              "array([[ 1. ,  4. ,  9.9],\n",
              "       [ 4. , 10. , 19.5]])"
            ]
          },
          "metadata": {},
          "execution_count": 137
        }
      ]
    },
    {
      "cell_type": "code",
      "source": [
        "np.reshape(a2, (2, 3, 1)) * a3"
      ],
      "metadata": {
        "colab": {
          "base_uri": "https://localhost:8080/"
        },
        "id": "sskDr_WtQQov",
        "outputId": "bc6683f6-5bb8-49c6-fe5f-697f1ee37b13"
      },
      "execution_count": 138,
      "outputs": [
        {
          "output_type": "execute_result",
          "data": {
            "text/plain": [
              "array([[[  1. ,   2. ,   3. ],\n",
              "        [  8. ,  10. ,  12. ],\n",
              "        [ 23.1,  26.4,  29.7]],\n",
              "\n",
              "       [[ 40. ,  44. ,  48. ],\n",
              "        [ 65. ,  70. ,  75. ],\n",
              "        [104. , 110.5, 117. ]]])"
            ]
          },
          "metadata": {},
          "execution_count": 138
        }
      ]
    },
    {
      "cell_type": "markdown",
      "source": [
        "### Aggregation\n",
        "\n",
        "aggregation is performing the same operation on a number of things "
      ],
      "metadata": {
        "id": "EPV_cxuqQeNX"
      }
    },
    {
      "cell_type": "code",
      "source": [
        "a1"
      ],
      "metadata": {
        "colab": {
          "base_uri": "https://localhost:8080/"
        },
        "id": "qAkgcSigRcFg",
        "outputId": "fcbfff75-aa63-4db8-85c7-64bd4366ff79"
      },
      "execution_count": 139,
      "outputs": [
        {
          "output_type": "execute_result",
          "data": {
            "text/plain": [
              "array([1, 2, 3])"
            ]
          },
          "metadata": {},
          "execution_count": 139
        }
      ]
    },
    {
      "cell_type": "code",
      "source": [
        "np.sum(a1)"
      ],
      "metadata": {
        "colab": {
          "base_uri": "https://localhost:8080/"
        },
        "id": "m_RAUb8mRpek",
        "outputId": "4b9f3967-068b-484c-f517-a8b4456eca88"
      },
      "execution_count": 140,
      "outputs": [
        {
          "output_type": "execute_result",
          "data": {
            "text/plain": [
              "6"
            ]
          },
          "metadata": {},
          "execution_count": 140
        }
      ]
    },
    {
      "cell_type": "markdown",
      "source": [
        "> **Note:** Use python's method on python datatypes and use NumPy's methods on NumPy arrays"
      ],
      "metadata": {
        "id": "RRl1y9oVRuKd"
      }
    },
    {
      "cell_type": "code",
      "source": [
        "# create a massive array\n",
        "massive_array = np.random.random(100000)\n",
        "massive_array[:10]"
      ],
      "metadata": {
        "colab": {
          "base_uri": "https://localhost:8080/"
        },
        "id": "OTApEOo3R8fN",
        "outputId": "fbee5fcd-38e5-4ee3-c688-3ad5421b0f71"
      },
      "execution_count": 141,
      "outputs": [
        {
          "output_type": "execute_result",
          "data": {
            "text/plain": [
              "array([0.82845319, 0.94180927, 0.12814785, 0.23043067, 0.6591584 ,\n",
              "       0.13247399, 0.22407864, 0.57486259, 0.16952372, 0.78223015])"
            ]
          },
          "metadata": {},
          "execution_count": 141
        }
      ]
    },
    {
      "cell_type": "code",
      "source": [
        "%timeit sum(massive_array)\n",
        "%timeit np.sum(massive_array)"
      ],
      "metadata": {
        "colab": {
          "base_uri": "https://localhost:8080/"
        },
        "id": "pmyz-pLtSIKq",
        "outputId": "22851001-b9cc-4c3d-d2df-cb837de623ab"
      },
      "execution_count": 142,
      "outputs": [
        {
          "output_type": "stream",
          "name": "stdout",
          "text": [
            "7.4 ms ± 966 µs per loop (mean ± std. dev. of 7 runs, 10 loops each)\n",
            "29.8 µs ± 2.01 µs per loop (mean ± std. dev. of 7 runs, 10000 loops each)\n"
          ]
        }
      ]
    },
    {
      "cell_type": "code",
      "source": [
        "# mean\n",
        "np.mean(a2)"
      ],
      "metadata": {
        "colab": {
          "base_uri": "https://localhost:8080/"
        },
        "id": "G-q17rquShtq",
        "outputId": "2ccc06ee-c8c2-4325-a1ba-fe3d6d50c7a1"
      },
      "execution_count": 143,
      "outputs": [
        {
          "output_type": "execute_result",
          "data": {
            "text/plain": [
              "3.6333333333333333"
            ]
          },
          "metadata": {},
          "execution_count": 143
        }
      ]
    },
    {
      "cell_type": "code",
      "source": [
        "# maximum in the array\n",
        "np.max(a2)"
      ],
      "metadata": {
        "colab": {
          "base_uri": "https://localhost:8080/"
        },
        "id": "xuZb8JowS3Kq",
        "outputId": "cbfc6a6a-d2e3-4e94-a4a0-3909d4fe7fb5"
      },
      "execution_count": 144,
      "outputs": [
        {
          "output_type": "execute_result",
          "data": {
            "text/plain": [
              "6.5"
            ]
          },
          "metadata": {},
          "execution_count": 144
        }
      ]
    },
    {
      "cell_type": "code",
      "source": [
        "# minimum in the array\n",
        "np.min(a2)"
      ],
      "metadata": {
        "colab": {
          "base_uri": "https://localhost:8080/"
        },
        "id": "vC3Mp_lES5U-",
        "outputId": "5a6d3bd5-cd55-4b7e-f791-a1d24bbc8b4d"
      },
      "execution_count": 145,
      "outputs": [
        {
          "output_type": "execute_result",
          "data": {
            "text/plain": [
              "1.0"
            ]
          },
          "metadata": {},
          "execution_count": 145
        }
      ]
    },
    {
      "cell_type": "code",
      "source": [
        "# standard deviation\n",
        "\n",
        "# standard deviation is the measure of how spread out a group of number is from the mean\n",
        "\n",
        "# std is sqrt of var\n",
        "np.std(a2)"
      ],
      "metadata": {
        "colab": {
          "base_uri": "https://localhost:8080/"
        },
        "id": "SWP_hdAhS6uK",
        "outputId": "80d0e2fd-f7c5-46d3-e722-c9f40615f55c"
      },
      "execution_count": 146,
      "outputs": [
        {
          "output_type": "execute_result",
          "data": {
            "text/plain": [
              "1.8226964152656422"
            ]
          },
          "metadata": {},
          "execution_count": 146
        }
      ]
    },
    {
      "cell_type": "code",
      "source": [
        "# variance\n",
        "\n",
        "# Variance is the measure of the average degree to which each number is different to mean\n",
        "\n",
        "# Higher variance = wider range of numbers\n",
        "\n",
        "# Lower variance = lower range of numbers\n",
        "np.var(a2)"
      ],
      "metadata": {
        "colab": {
          "base_uri": "https://localhost:8080/"
        },
        "id": "3qgWh5vYS72D",
        "outputId": "e857ab80-b8d8-40a0-e695-b8d1649b47a9"
      },
      "execution_count": 147,
      "outputs": [
        {
          "output_type": "execute_result",
          "data": {
            "text/plain": [
              "3.3222222222222224"
            ]
          },
          "metadata": {},
          "execution_count": 147
        }
      ]
    },
    {
      "cell_type": "code",
      "source": [
        "# Demo of std and var\n",
        "high_var_array = np.array([1, 100, 200, 300, 4000, 5000])\n",
        "low_var_array = np.array([2, 4, 6, 8, 10])"
      ],
      "metadata": {
        "id": "E1BDZeDrS_Y1"
      },
      "execution_count": 149,
      "outputs": []
    },
    {
      "cell_type": "code",
      "source": [
        "np.var(high_var_array), np.var(low_var_array)"
      ],
      "metadata": {
        "colab": {
          "base_uri": "https://localhost:8080/"
        },
        "id": "3EdiWhxKUw1G",
        "outputId": "91070c66-0908-4a12-bf03-bc2edfc560ad"
      },
      "execution_count": 150,
      "outputs": [
        {
          "output_type": "execute_result",
          "data": {
            "text/plain": [
              "(4296133.472222221, 8.0)"
            ]
          },
          "metadata": {},
          "execution_count": 150
        }
      ]
    },
    {
      "cell_type": "code",
      "source": [
        "np.std(high_var_array), np.std(low_var_array)"
      ],
      "metadata": {
        "colab": {
          "base_uri": "https://localhost:8080/"
        },
        "id": "yWxNVOlLU4Ot",
        "outputId": "3a0e90b0-8117-4a49-ee5b-f3274abb0f5e"
      },
      "execution_count": 151,
      "outputs": [
        {
          "output_type": "execute_result",
          "data": {
            "text/plain": [
              "(2072.711623024829, 2.8284271247461903)"
            ]
          },
          "metadata": {},
          "execution_count": 151
        }
      ]
    },
    {
      "cell_type": "code",
      "source": [
        "np.mean(high_var_array), np.mean(low_var_array)"
      ],
      "metadata": {
        "colab": {
          "base_uri": "https://localhost:8080/"
        },
        "id": "Jp6LyQgfVBPp",
        "outputId": "0da7446a-1d73-47eb-c1d1-d38b362b84f6"
      },
      "execution_count": 152,
      "outputs": [
        {
          "output_type": "execute_result",
          "data": {
            "text/plain": [
              "(1600.1666666666667, 6.0)"
            ]
          },
          "metadata": {},
          "execution_count": 152
        }
      ]
    },
    {
      "cell_type": "code",
      "source": [
        "%matplotlib inline\n",
        "import matplotlib.pyplot as plt\n",
        "plt.hist(high_var_array)"
      ],
      "metadata": {
        "colab": {
          "base_uri": "https://localhost:8080/",
          "height": 352
        },
        "id": "CdGSBk5wVHPl",
        "outputId": "5cabc272-6d60-4cd1-e4d9-d62a219d8912"
      },
      "execution_count": 153,
      "outputs": [
        {
          "output_type": "execute_result",
          "data": {
            "text/plain": [
              "(array([4., 0., 0., 0., 0., 0., 0., 1., 0., 1.]),\n",
              " array([1.0000e+00, 5.0090e+02, 1.0008e+03, 1.5007e+03, 2.0006e+03,\n",
              "        2.5005e+03, 3.0004e+03, 3.5003e+03, 4.0002e+03, 4.5001e+03,\n",
              "        5.0000e+03]),\n",
              " <a list of 10 Patch objects>)"
            ]
          },
          "metadata": {},
          "execution_count": 153
        },
        {
          "output_type": "display_data",
          "data": {
            "text/plain": [
              "<Figure size 432x288 with 1 Axes>"
            ],
            "image/png": "[encoded data removed]"
          },
          "metadata": {
            "needs_background": "light"
          }
        }
      ]
    },
    {
      "cell_type": "code",
      "source": [
        "plt.hist(low_var_array)"
      ],
      "metadata": {
        "colab": {
          "base_uri": "https://localhost:8080/",
          "height": 317
        },
        "id": "dlNr_9SHVRzM",
        "outputId": "e18922b7-694a-49a8-8fc4-9b67c8c3a595"
      },
      "execution_count": 154,
      "outputs": [
        {
          "output_type": "execute_result",
          "data": {
            "text/plain": [
              "(array([1., 0., 1., 0., 0., 1., 0., 1., 0., 1.]),\n",
              " array([ 2. ,  2.8,  3.6,  4.4,  5.2,  6. ,  6.8,  7.6,  8.4,  9.2, 10. ]),\n",
              " <a list of 10 Patch objects>)"
            ]
          },
          "metadata": {},
          "execution_count": 154
        },
        {
          "output_type": "display_data",
          "data": {
            "text/plain": [
              "<Figure size 432x288 with 1 Axes>"
            ],
            "image/png": "[encoded data removed]"
          },
          "metadata": {
            "needs_background": "light"
          }
        }
      ]
    },
    {
      "cell_type": "markdown",
      "source": [
        "### Reshaping and transposing"
      ],
      "metadata": {
        "id": "ru5akOAIVXVx"
      }
    },
    {
      "cell_type": "code",
      "source": [
        "a2"
      ],
      "metadata": {
        "colab": {
          "base_uri": "https://localhost:8080/"
        },
        "id": "EIn-yLorVnGL",
        "outputId": "cd42d7d8-b62c-4586-c0f4-dbc6f93ba5ab"
      },
      "execution_count": 155,
      "outputs": [
        {
          "output_type": "execute_result",
          "data": {
            "text/plain": [
              "array([[1. , 2. , 3.3],\n",
              "       [4. , 5. , 6.5]])"
            ]
          },
          "metadata": {},
          "execution_count": 155
        }
      ]
    },
    {
      "cell_type": "code",
      "source": [
        "a2.shape"
      ],
      "metadata": {
        "colab": {
          "base_uri": "https://localhost:8080/"
        },
        "id": "YamHg_NjVotH",
        "outputId": "2917648b-699d-41f7-cd99-1caa1f6a2ba8"
      },
      "execution_count": 156,
      "outputs": [
        {
          "output_type": "execute_result",
          "data": {
            "text/plain": [
              "(2, 3)"
            ]
          },
          "metadata": {},
          "execution_count": 156
        }
      ]
    },
    {
      "cell_type": "code",
      "source": [
        "a3.shape"
      ],
      "metadata": {
        "colab": {
          "base_uri": "https://localhost:8080/"
        },
        "id": "V2bE7VAOVp58",
        "outputId": "1f29512a-712c-4ea0-a5af-317231548005"
      },
      "execution_count": 157,
      "outputs": [
        {
          "output_type": "execute_result",
          "data": {
            "text/plain": [
              "(2, 3, 3)"
            ]
          },
          "metadata": {},
          "execution_count": 157
        }
      ]
    },
    {
      "cell_type": "code",
      "source": [
        "a2.reshape(2,1, 3)*a3"
      ],
      "metadata": {
        "colab": {
          "base_uri": "https://localhost:8080/"
        },
        "id": "2x1sV4pJVs4l",
        "outputId": "d1f37f83-c9f4-454d-dce0-ba1bf5e87ab0"
      },
      "execution_count": 160,
      "outputs": [
        {
          "output_type": "execute_result",
          "data": {
            "text/plain": [
              "array([[[  1. ,   4. ,   9.9],\n",
              "        [  4. ,  10. ,  19.8],\n",
              "        [  7. ,  16. ,  29.7]],\n",
              "\n",
              "       [[ 40. ,  55. ,  78. ],\n",
              "        [ 52. ,  70. ,  97.5],\n",
              "        [ 64. ,  85. , 117. ]]])"
            ]
          },
          "metadata": {},
          "execution_count": 160
        }
      ]
    },
    {
      "cell_type": "code",
      "source": [
        "a2.T"
      ],
      "metadata": {
        "colab": {
          "base_uri": "https://localhost:8080/"
        },
        "id": "-8hVS_coV65I",
        "outputId": "dbfca27d-4754-4473-e46a-28db03245bfd"
      },
      "execution_count": 164,
      "outputs": [
        {
          "output_type": "execute_result",
          "data": {
            "text/plain": [
              "array([[1. , 4. ],\n",
              "       [2. , 5. ],\n",
              "       [3.3, 6.5]])"
            ]
          },
          "metadata": {},
          "execution_count": 164
        }
      ]
    },
    {
      "cell_type": "markdown",
      "source": [
        "### Dot Product"
      ],
      "metadata": {
        "id": "ScMJsI1UWWXM"
      }
    },
    {
      "cell_type": "code",
      "source": [
        "np.random.seed(0)\n",
        "\n",
        "mat1 = np.random.randint(10, size=(5, 3))\n",
        "mat2 = np.random.randint(10, size=(5, 3))\n",
        "mat1, mat2"
      ],
      "metadata": {
        "colab": {
          "base_uri": "https://localhost:8080/"
        },
        "id": "J48dF5dPWua4",
        "outputId": "17adcf66-79ec-4d88-9a03-aae57742ef38"
      },
      "execution_count": 167,
      "outputs": [
        {
          "output_type": "execute_result",
          "data": {
            "text/plain": [
              "(array([[5, 0, 3],\n",
              "        [3, 7, 9],\n",
              "        [3, 5, 2],\n",
              "        [4, 7, 6],\n",
              "        [8, 8, 1]]), array([[6, 7, 7],\n",
              "        [8, 1, 5],\n",
              "        [9, 8, 9],\n",
              "        [4, 3, 0],\n",
              "        [3, 5, 0]]))"
            ]
          },
          "metadata": {},
          "execution_count": 167
        }
      ]
    },
    {
      "cell_type": "code",
      "source": [
        "# element-wise multiplication\n",
        "mat1* mat2"
      ],
      "metadata": {
        "colab": {
          "base_uri": "https://localhost:8080/"
        },
        "id": "FCnG2AImW88l",
        "outputId": "05d6828c-b979-4e86-d0f6-75d7608ac6d4"
      },
      "execution_count": 169,
      "outputs": [
        {
          "output_type": "execute_result",
          "data": {
            "text/plain": [
              "array([[30,  0, 21],\n",
              "       [24,  7, 45],\n",
              "       [27, 40, 18],\n",
              "       [16, 21,  0],\n",
              "       [24, 40,  0]])"
            ]
          },
          "metadata": {},
          "execution_count": 169
        }
      ]
    },
    {
      "cell_type": "code",
      "source": [
        "# dot product \n",
        "np.dot(mat1,mat2)"
      ],
      "metadata": {
        "colab": {
          "base_uri": "https://localhost:8080/",
          "height": 217
        },
        "id": "-FsJ9WDKXGHH",
        "outputId": "2c3de1af-1085-4212-a608-8bec59c6f5d7"
      },
      "execution_count": 170,
      "outputs": [
        {
          "output_type": "error",
          "ename": "ValueError",
          "evalue": "ignored",
          "traceback": [
            "\u001b[0;31m---------------------------------------------------------------------------\u001b[0m",
            "\u001b[0;31mValueError\u001b[0m                                Traceback (most recent call last)",
            "\u001b[0;32m<ipython-input-170-00922b06d299>\u001b[0m in \u001b[0;36m<module>\u001b[0;34m\u001b[0m\n\u001b[1;32m      1\u001b[0m \u001b[0;31m# dot product\u001b[0m\u001b[0;34m\u001b[0m\u001b[0;34m\u001b[0m\u001b[0;34m\u001b[0m\u001b[0m\n\u001b[0;32m----> 2\u001b[0;31m \u001b[0mnp\u001b[0m\u001b[0;34m.\u001b[0m\u001b[0mdot\u001b[0m\u001b[0;34m(\u001b[0m\u001b[0mmat1\u001b[0m\u001b[0;34m,\u001b[0m\u001b[0mmat2\u001b[0m\u001b[0;34m)\u001b[0m\u001b[0;34m\u001b[0m\u001b[0;34m\u001b[0m\u001b[0m\n\u001b[0m",
            "\u001b[0;32m<__array_function__ internals>\u001b[0m in \u001b[0;36mdot\u001b[0;34m(*args, **kwargs)\u001b[0m\n",
            "\u001b[0;31mValueError\u001b[0m: shapes (5,3) and (5,3) not aligned: 3 (dim 1) != 5 (dim 0)"
          ]
        }
      ]
    },
    {
      "cell_type": "code",
      "source": [
        "np.dot(mat1.T, mat2)"
      ],
      "metadata": {
        "colab": {
          "base_uri": "https://localhost:8080/"
        },
        "id": "BE-E35toXTXZ",
        "outputId": "8b02fc1c-0559-4743-dd12-d8868d35d562"
      },
      "execution_count": 171,
      "outputs": [
        {
          "output_type": "execute_result",
          "data": {
            "text/plain": [
              "array([[121, 114,  77],\n",
              "       [153, 108,  80],\n",
              "       [135,  69,  84]])"
            ]
          },
          "metadata": {},
          "execution_count": 171
        }
      ]
    },
    {
      "cell_type": "code",
      "source": [
        "np.dot(mat1, mat2.T)"
      ],
      "metadata": {
        "colab": {
          "base_uri": "https://localhost:8080/"
        },
        "id": "2DQF_2dVXXuq",
        "outputId": "fe6eed14-da50-4810-84b5-a01b661b1f6b"
      },
      "execution_count": 172,
      "outputs": [
        {
          "output_type": "execute_result",
          "data": {
            "text/plain": [
              "array([[ 51,  55,  72,  20,  15],\n",
              "       [130,  76, 164,  33,  44],\n",
              "       [ 67,  39,  85,  27,  34],\n",
              "       [115,  69, 146,  37,  47],\n",
              "       [111,  77, 145,  56,  64]])"
            ]
          },
          "metadata": {},
          "execution_count": 172
        }
      ]
    },
    {
      "cell_type": "markdown",
      "source": [
        "### Comparison operators"
      ],
      "metadata": {
        "id": "nEKUKvS7XZ7t"
      }
    },
    {
      "cell_type": "code",
      "source": [
        "a1"
      ],
      "metadata": {
        "colab": {
          "base_uri": "https://localhost:8080/"
        },
        "id": "pqJ2czJnZvZT",
        "outputId": "10352e2f-5df6-44da-a307-d5a785236710"
      },
      "execution_count": 173,
      "outputs": [
        {
          "output_type": "execute_result",
          "data": {
            "text/plain": [
              "array([1, 2, 3])"
            ]
          },
          "metadata": {},
          "execution_count": 173
        }
      ]
    },
    {
      "cell_type": "code",
      "source": [
        "a2"
      ],
      "metadata": {
        "colab": {
          "base_uri": "https://localhost:8080/"
        },
        "id": "1gy_dkcoZyrY",
        "outputId": "d8e2d072-0d25-4a43-89a8-a4614e19b0b0"
      },
      "execution_count": 174,
      "outputs": [
        {
          "output_type": "execute_result",
          "data": {
            "text/plain": [
              "array([[1. , 2. , 3.3],\n",
              "       [4. , 5. , 6.5]])"
            ]
          },
          "metadata": {},
          "execution_count": 174
        }
      ]
    },
    {
      "cell_type": "code",
      "source": [
        "a1> a2"
      ],
      "metadata": {
        "colab": {
          "base_uri": "https://localhost:8080/"
        },
        "id": "wgE3CKIIZzIy",
        "outputId": "a70a5a67-4797-4d91-9f2b-7af24914018e"
      },
      "execution_count": 176,
      "outputs": [
        {
          "output_type": "execute_result",
          "data": {
            "text/plain": [
              "array([[False, False, False],\n",
              "       [False, False, False]])"
            ]
          },
          "metadata": {},
          "execution_count": 176
        }
      ]
    },
    {
      "cell_type": "code",
      "source": [
        "a1 >= a2"
      ],
      "metadata": {
        "colab": {
          "base_uri": "https://localhost:8080/"
        },
        "id": "7f95dX1FZ4DW",
        "outputId": "221938d6-5682-45ff-8797-a2751d151c9f"
      },
      "execution_count": 178,
      "outputs": [
        {
          "output_type": "execute_result",
          "data": {
            "text/plain": [
              "array([[ True,  True, False],\n",
              "       [False, False, False]])"
            ]
          },
          "metadata": {},
          "execution_count": 178
        }
      ]
    },
    {
      "cell_type": "code",
      "source": [
        "a1 == a2"
      ],
      "metadata": {
        "colab": {
          "base_uri": "https://localhost:8080/"
        },
        "id": "NNLriQUvZ6xg",
        "outputId": "2b57cd50-2327-436e-e766-35cce934ed0d"
      },
      "execution_count": 179,
      "outputs": [
        {
          "output_type": "execute_result",
          "data": {
            "text/plain": [
              "array([[ True,  True, False],\n",
              "       [False, False, False]])"
            ]
          },
          "metadata": {},
          "execution_count": 179
        }
      ]
    },
    {
      "cell_type": "code",
      "source": [
        "a1 != a2"
      ],
      "metadata": {
        "colab": {
          "base_uri": "https://localhost:8080/"
        },
        "id": "IM1vxT24aDEi",
        "outputId": "c042cfc0-1bd7-4d82-938f-24e96845315c"
      },
      "execution_count": 180,
      "outputs": [
        {
          "output_type": "execute_result",
          "data": {
            "text/plain": [
              "array([[False, False,  True],\n",
              "       [ True,  True,  True]])"
            ]
          },
          "metadata": {},
          "execution_count": 180
        }
      ]
    },
    {
      "cell_type": "markdown",
      "source": [
        "### Sorting Arrays"
      ],
      "metadata": {
        "id": "8igQ7aVuaHCG"
      }
    },
    {
      "cell_type": "code",
      "source": [
        "random_array = np.random.randint(10, size=(3, 5))\n",
        "random_array"
      ],
      "metadata": {
        "colab": {
          "base_uri": "https://localhost:8080/"
        },
        "id": "CWHrQwSaaM-j",
        "outputId": "a4d40cca-5357-4a32-cf6c-5ed28ede8ba1"
      },
      "execution_count": 182,
      "outputs": [
        {
          "output_type": "execute_result",
          "data": {
            "text/plain": [
              "array([[3, 2, 7, 2, 0],\n",
              "       [0, 4, 5, 5, 6],\n",
              "       [8, 4, 1, 4, 9]])"
            ]
          },
          "metadata": {},
          "execution_count": 182
        }
      ]
    },
    {
      "cell_type": "code",
      "source": [
        "np.sort(random_array)"
      ],
      "metadata": {
        "colab": {
          "base_uri": "https://localhost:8080/"
        },
        "id": "EDtGHuiwaQ0v",
        "outputId": "ba85e186-6aba-47ca-8da5-6599f943c014"
      },
      "execution_count": 183,
      "outputs": [
        {
          "output_type": "execute_result",
          "data": {
            "text/plain": [
              "array([[0, 2, 2, 3, 7],\n",
              "       [0, 4, 5, 5, 6],\n",
              "       [1, 4, 4, 8, 9]])"
            ]
          },
          "metadata": {},
          "execution_count": 183
        }
      ]
    },
    {
      "cell_type": "code",
      "source": [
        "np.argsort(random_array)"
      ],
      "metadata": {
        "colab": {
          "base_uri": "https://localhost:8080/"
        },
        "id": "DOcD7QAqaVf-",
        "outputId": "495c3f01-b302-4f53-f374-d30fc9c0b7e3"
      },
      "execution_count": 184,
      "outputs": [
        {
          "output_type": "execute_result",
          "data": {
            "text/plain": [
              "array([[4, 1, 3, 0, 2],\n",
              "       [0, 1, 2, 3, 4],\n",
              "       [2, 1, 3, 0, 4]])"
            ]
          },
          "metadata": {},
          "execution_count": 184
        }
      ]
    },
    {
      "cell_type": "code",
      "source": [
        "a1"
      ],
      "metadata": {
        "colab": {
          "base_uri": "https://localhost:8080/"
        },
        "id": "3KSV7Htqacr2",
        "outputId": "83a11448-4524-47ac-8122-2edd6a5aea3a"
      },
      "execution_count": 185,
      "outputs": [
        {
          "output_type": "execute_result",
          "data": {
            "text/plain": [
              "array([1, 2, 3])"
            ]
          },
          "metadata": {},
          "execution_count": 185
        }
      ]
    },
    {
      "cell_type": "code",
      "source": [
        "np.argsort(a1)"
      ],
      "metadata": {
        "colab": {
          "base_uri": "https://localhost:8080/"
        },
        "id": "mMTMbefgafxS",
        "outputId": "1614f406-48d0-4864-9b28-dcfc4bb626bf"
      },
      "execution_count": 186,
      "outputs": [
        {
          "output_type": "execute_result",
          "data": {
            "text/plain": [
              "array([0, 1, 2])"
            ]
          },
          "metadata": {},
          "execution_count": 186
        }
      ]
    },
    {
      "cell_type": "code",
      "source": [
        "np.argmin(a1)"
      ],
      "metadata": {
        "colab": {
          "base_uri": "https://localhost:8080/"
        },
        "id": "IkeIKXz4ahqW",
        "outputId": "654d2c6e-b908-4e4a-8849-c92186102991"
      },
      "execution_count": 187,
      "outputs": [
        {
          "output_type": "execute_result",
          "data": {
            "text/plain": [
              "0"
            ]
          },
          "metadata": {},
          "execution_count": 187
        }
      ]
    },
    {
      "cell_type": "code",
      "source": [
        "np.argmax(a1)"
      ],
      "metadata": {
        "colab": {
          "base_uri": "https://localhost:8080/"
        },
        "id": "4cYGlwyZai6o",
        "outputId": "8c15395d-c5ad-475c-bec5-883210f1d0e5"
      },
      "execution_count": 188,
      "outputs": [
        {
          "output_type": "execute_result",
          "data": {
            "text/plain": [
              "2"
            ]
          },
          "metadata": {},
          "execution_count": 188
        }
      ]
    },
    {
      "cell_type": "code",
      "source": [
        "np.argmax(random_array, axis=0)"
      ],
      "metadata": {
        "colab": {
          "base_uri": "https://localhost:8080/"
        },
        "id": "hRHMqEfSakr5",
        "outputId": "078cafdb-8c6e-4b9d-af36-104fb87ebb7d"
      },
      "execution_count": 190,
      "outputs": [
        {
          "output_type": "execute_result",
          "data": {
            "text/plain": [
              "array([2, 1, 0, 1, 2])"
            ]
          },
          "metadata": {},
          "execution_count": 190
        }
      ]
    },
    {
      "cell_type": "markdown",
      "source": [
        "### Practical Example - Numpy in action"
      ],
      "metadata": {
        "id": "Oshy2PgpanBk"
      }
    },
    {
      "cell_type": "code",
      "source": [
        "# Turn an image into a NumPy array\n",
        "from matplotlib.image import imread\n",
        "panda = imread(\"panda.png\")\n",
        "plt.imshow(panda)\n",
        "panda"
      ],
      "metadata": {
        "colab": {
          "base_uri": "https://localhost:8080/",
          "height": 1000
        },
        "id": "L0rDWFxtbHJz",
        "outputId": "99e7d134-56b5-48a5-d511-9470d881f662"
      },
      "execution_count": 197,
      "outputs": [
        {
          "output_type": "execute_result",
          "data": {
            "text/plain": [
              "array([[[0.05490196, 0.10588235, 0.06666667],\n",
              "        [0.05490196, 0.10588235, 0.06666667],\n",
              "        [0.05490196, 0.10588235, 0.06666667],\n",
              "        ...,\n",
              "        [0.16470589, 0.12941177, 0.09411765],\n",
              "        [0.16470589, 0.12941177, 0.09411765],\n",
              "        [0.16470589, 0.12941177, 0.09411765]],\n",
              "\n",
              "       [[0.05490196, 0.10588235, 0.06666667],\n",
              "        [0.05490196, 0.10588235, 0.06666667],\n",
              "        [0.05490196, 0.10588235, 0.06666667],\n",
              "        ...,\n",
              "        [0.16470589, 0.12941177, 0.09411765],\n",
              "        [0.16470589, 0.12941177, 0.09411765],\n",
              "        [0.16470589, 0.12941177, 0.09411765]],\n",
              "\n",
              "       [[0.05490196, 0.10588235, 0.06666667],\n",
              "        [0.05490196, 0.10588235, 0.06666667],\n",
              "        [0.05490196, 0.10588235, 0.06666667],\n",
              "        ...,\n",
              "        [0.16470589, 0.12941177, 0.09411765],\n",
              "        [0.16470589, 0.12941177, 0.09411765],\n",
              "        [0.16470589, 0.12941177, 0.09411765]],\n",
              "\n",
              "       ...,\n",
              "\n",
              "       [[0.13333334, 0.07450981, 0.05490196],\n",
              "        [0.12156863, 0.0627451 , 0.04313726],\n",
              "        [0.10980392, 0.05098039, 0.03137255],\n",
              "        ...,\n",
              "        [0.02745098, 0.02745098, 0.03529412],\n",
              "        [0.02745098, 0.02745098, 0.03529412],\n",
              "        [0.02745098, 0.02745098, 0.03529412]],\n",
              "\n",
              "       [[0.13333334, 0.07450981, 0.05490196],\n",
              "        [0.12156863, 0.0627451 , 0.04313726],\n",
              "        [0.12156863, 0.0627451 , 0.04313726],\n",
              "        ...,\n",
              "        [0.02352941, 0.02352941, 0.03137255],\n",
              "        [0.02352941, 0.02352941, 0.03137255],\n",
              "        [0.02352941, 0.02352941, 0.03137255]],\n",
              "\n",
              "       [[0.13333334, 0.07450981, 0.05490196],\n",
              "        [0.12156863, 0.0627451 , 0.04313726],\n",
              "        [0.12156863, 0.0627451 , 0.04313726],\n",
              "        ...,\n",
              "        [0.02352941, 0.02352941, 0.03137255],\n",
              "        [0.02352941, 0.02352941, 0.03137255],\n",
              "        [0.02352941, 0.02352941, 0.03137255]]], dtype=float32)"
            ]
          },
          "metadata": {},
          "execution_count": 197
        },
        {
          "output_type": "display_data",
          "data": {
            "text/plain": [
              "<Figure size 432x288 with 1 Axes>"
            ],
            "image/png": "[encoded data removed]"
          },
          "metadata": {
            "needs_background": "light"
          }
        }
      ]
    },
    {
      "cell_type": "code",
      "source": [
        "panda.shape, panda.size, panda.ndim"
      ],
      "metadata": {
        "colab": {
          "base_uri": "https://localhost:8080/"
        },
        "id": "ZpkMM5VIbeR0",
        "outputId": "d474a730-9bf5-46de-da42-5fe583f1ffb8"
      },
      "execution_count": 200,
      "outputs": [
        {
          "output_type": "execute_result",
          "data": {
            "text/plain": [
              "((2330, 3500, 3), 24465000, 3)"
            ]
          },
          "metadata": {},
          "execution_count": 200
        }
      ]
    },
    {
      "cell_type": "code",
      "source": [],
      "metadata": {
        "id": "mOQMim8Qb8qN"
      },
      "execution_count": null,
      "outputs": []
    }
  ]
}